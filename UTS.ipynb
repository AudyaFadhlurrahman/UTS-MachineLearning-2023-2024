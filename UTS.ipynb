{
  "nbformat": 4,
  "nbformat_minor": 0,
  "metadata": {
    "colab": {
      "provenance": []
    },
    "kernelspec": {
      "name": "python3",
      "display_name": "Python 3"
    },
    "language_info": {
      "name": "python"
    }
  },
  "cells": [
    {
      "cell_type": "code",
      "execution_count": null,
      "metadata": {
        "colab": {
          "base_uri": "https://localhost:8080/"
        },
        "id": "tio0PoL_nzrx",
        "outputId": "a9412c25-b59e-4925-9806-56d0ff49f10c"
      },
      "outputs": [
        {
          "output_type": "stream",
          "name": "stdout",
          "text": [
            "      battery_power  blue  clock_speed  dual_sim  fc  four_g  int_memory  \\\n",
            "0             842.0     0          2.2         0   1       0         7.0   \n",
            "1            1021.0     1          0.5         1   0       1        53.0   \n",
            "2             563.0     1          0.5         1   2       1        41.0   \n",
            "3             615.0     1          2.5         0   0       0        10.0   \n",
            "4            1821.0     1          1.2         0  13       1        44.0   \n",
            "...             ...   ...          ...       ...  ..     ...         ...   \n",
            "1995          794.0     1          0.5         1   0       1         2.0   \n",
            "1996         1965.0     1          2.6         1   0       0        39.0   \n",
            "1997         1911.0     0          0.9         1   1       1        36.0   \n",
            "1998         1512.0     0          0.9         0   4       1        46.0   \n",
            "1999          510.0     1          2.0         1   5       1        45.0   \n",
            "\n",
            "      m_dep  mobile_wt  n_cores  ...  px_height  px_width     ram  sc_h  sc_w  \\\n",
            "0       0.6      188.0        2  ...         20       756     NaN     9     7   \n",
            "1       0.7      136.0        3  ...        905      1988  2631.0    17     3   \n",
            "2       0.9      145.0        5  ...       1263      1716  2603.0    11     2   \n",
            "3       0.8      131.0        6  ...       1216      1786  2769.0    16     8   \n",
            "4       0.6      141.0        2  ...       1208      1212  1411.0     8     2   \n",
            "...     ...        ...      ...  ...        ...       ...     ...   ...   ...   \n",
            "1995    0.8      106.0        6  ...       1222      1890   668.0    13     4   \n",
            "1996    0.2      187.0        4  ...        915      1965  2032.0    11    10   \n",
            "1997    0.7      108.0        8  ...        868      1632  3057.0     9     1   \n",
            "1998    0.1      145.0        5  ...        336       670   869.0    18    10   \n",
            "1999    0.9      168.0        6  ...        483       754  3919.0    19     4   \n",
            "\n",
            "      talk_time  three_g  touch_screen  wifi  price_range  \n",
            "0            19        0             0     1            1  \n",
            "1             7        1             1     0            2  \n",
            "2             9        1             1     0            2  \n",
            "3            11        1             0     0            2  \n",
            "4            15        1             1     0            1  \n",
            "...         ...      ...           ...   ...          ...  \n",
            "1995         19        1             1     0            0  \n",
            "1996         16        1             1     1            2  \n",
            "1997          5        1             1     0            3  \n",
            "1998         19        1             1     1            0  \n",
            "1999          2        1             1     1            3  \n",
            "\n",
            "[2000 rows x 21 columns]\n"
          ]
        }
      ],
      "source": [
        "import requests\n",
        "import pandas as pd\n",
        "\n",
        "\n",
        "req = requests.get(\n",
        "    \"https://raw.githubusercontent.com/isnanmulia/lecture-datasets/main/mobileprice_modified.csv\")\n",
        "url_content = req.content\n",
        "csv_file = open('datauts.csv', 'wb')\n",
        "csv_file.write(url_content)\n",
        "csv_file.close\n",
        "\n",
        "print(data)"
      ]
    },
    {
      "cell_type": "markdown",
      "source": [
        "-------\n",
        "#Soal NO 2 bagian A\n",
        "-------"
      ],
      "metadata": {
        "id": "bmJZuQvKoxU0"
      }
    },
    {
      "cell_type": "code",
      "source": [
        "# Mengimpor library yang diperlukan\n",
        "import pandas as pd\n",
        "\n",
        "# Membaca dataset\n",
        "data = pd.read_csv(\"datauts.csv\")  # Ganti \"nama_file_dataset.csv\" dengan nama file yang sesuai\n",
        "\n",
        "# Pisahkan atribut prediktor (fitur) dan atribut label\n",
        "X = data.iloc[:, :-1]  # Memilih semua kolom kecuali kolom terakhir\n",
        "y = data[\"price_range\"]  # Memilih kolom \"price_range\" sebagai atribut label\n",
        "\n",
        "print(\"Atribut Prediktor (X):\")\n",
        "print(X.head())\n",
        "\n",
        "print(\"\\nAtribut Label (y):\")\n",
        "print(y.head())\n"
      ],
      "metadata": {
        "colab": {
          "base_uri": "https://localhost:8080/"
        },
        "id": "1Y9SjMrroEWl",
        "outputId": "35ca54d9-63a2-4c52-dd9f-d63f2b1429b2"
      },
      "execution_count": null,
      "outputs": [
        {
          "output_type": "stream",
          "name": "stdout",
          "text": [
            "Atribut Prediktor (X):\n",
            "   battery_power  blue  clock_speed  dual_sim  fc  four_g  int_memory  m_dep  \\\n",
            "0          842.0     0          2.2         0   1       0         7.0    0.6   \n",
            "1         1021.0     1          0.5         1   0       1        53.0    0.7   \n",
            "2          563.0     1          0.5         1   2       1        41.0    0.9   \n",
            "3          615.0     1          2.5         0   0       0        10.0    0.8   \n",
            "4         1821.0     1          1.2         0  13       1        44.0    0.6   \n",
            "\n",
            "   mobile_wt  n_cores  pc  px_height  px_width     ram  sc_h  sc_w  talk_time  \\\n",
            "0      188.0        2   2         20       756     NaN     9     7         19   \n",
            "1      136.0        3   6        905      1988  2631.0    17     3          7   \n",
            "2      145.0        5   6       1263      1716  2603.0    11     2          9   \n",
            "3      131.0        6   9       1216      1786  2769.0    16     8         11   \n",
            "4      141.0        2  14       1208      1212  1411.0     8     2         15   \n",
            "\n",
            "   three_g  touch_screen  wifi  \n",
            "0        0             0     1  \n",
            "1        1             1     0  \n",
            "2        1             1     0  \n",
            "3        1             0     0  \n",
            "4        1             1     0  \n",
            "\n",
            "Atribut Label (y):\n",
            "0    1\n",
            "1    2\n",
            "2    2\n",
            "3    2\n",
            "4    1\n",
            "Name: price_range, dtype: int64\n"
          ]
        }
      ]
    },
    {
      "cell_type": "markdown",
      "source": [
        "---------------\n",
        "#Soal No 2 Bagian B\n",
        "---------------"
      ],
      "metadata": {
        "id": "SRrzmSEWo3i0"
      }
    },
    {
      "cell_type": "code",
      "source": [
        "from sklearn.impute import SimpleImputer\n",
        "\n",
        "imputer = SimpleImputer(strategy='median')\n",
        "\n",
        "X_imputed = imputer.fit_transform(X)\n",
        "\n",
        "for row in X_imputed:\n",
        "  print(row)"
      ],
      "metadata": {
        "id": "YqS9soaboRYL"
      },
      "execution_count": null,
      "outputs": []
    },
    {
      "cell_type": "markdown",
      "source": [
        "-------\n",
        "#Soal No 2 bagian C\n",
        "-------"
      ],
      "metadata": {
        "id": "cS6mRzMAo_a7"
      }
    },
    {
      "cell_type": "code",
      "source": [
        "from sklearn.preprocessing import MinMaxScaler\n",
        "\n",
        "scaler = MinMaxScaler()\n",
        "X_scaled = scaler.fit_transform(X_imputed)\n",
        "\n",
        "for row in X_scaled:\n",
        "  print(row)"
      ],
      "metadata": {
        "id": "tG5rSJLyoUcM"
      },
      "execution_count": null,
      "outputs": []
    },
    {
      "cell_type": "markdown",
      "source": [
        "---\n",
        "#Soal No 2 bagian D\n",
        "---"
      ],
      "metadata": {
        "id": "YVKn2D74x9jA"
      }
    },
    {
      "cell_type": "code",
      "source": [
        "import pandas as pd\n",
        "\n",
        "\n",
        "# Memuat dataset\n",
        "data = pd.read_csv('datauts.csv')\n",
        "\n",
        "# Statistik deskriptif sebelum pengisian missing values dan standarisasi\n",
        "stat_sebelum = data.describe()\n",
        "print(\"Statistik Deskriptif Sebelum Pengisian Missing Values dan Standarisasi:\")\n",
        "print(stat_sebelum)\n",
        "\n",
        "\n",
        "\n"
      ],
      "metadata": {
        "id": "qZqkYe06otjq"
      },
      "execution_count": null,
      "outputs": []
    },
    {
      "cell_type": "code",
      "source": [
        "# Mengisi missing values dengan mean (contoh)\n",
        "data = data.fillna(data.mean())"
      ],
      "metadata": {
        "id": "XRx-UaQKq_qk"
      },
      "execution_count": null,
      "outputs": []
    },
    {
      "cell_type": "code",
      "source": [
        "from sklearn.preprocessing import StandardScaler\n",
        "\n",
        "# Inisialisasi objek standarisasi\n",
        "scaler = StandardScaler()\n",
        "numerik_columns = ['battery_power', 'mobile_wt', 'ram']\n",
        "\n",
        "# Standarisasi data\n",
        "data[numerik_columns] = scaler.fit_transform(data[numerik_columns])\n"
      ],
      "metadata": {
        "id": "9_DRI_vfrBny"
      },
      "execution_count": null,
      "outputs": []
    },
    {
      "cell_type": "code",
      "source": [
        "# Statistik deskriptif setelah pengisian missing values dan standarisasi\n",
        "stat_sesudah = data.describe()\n",
        "print(\"\\nStatistik Deskriptif Setelah Pengisian Missing Values dan Standarisasi:\")\n",
        "print(stat_sesudah)\n"
      ],
      "metadata": {
        "id": "kKNMgs3ctS6P"
      },
      "execution_count": null,
      "outputs": []
    },
    {
      "cell_type": "markdown",
      "source": [
        "---\n",
        "#Soal No 3 bagian A\n",
        "---"
      ],
      "metadata": {
        "id": "VZ51XaNlthjg"
      }
    },
    {
      "cell_type": "code",
      "source": [
        "from sklearn.neighbors import KNeighborsClassifier\n",
        "from sklearn.model_selection import train_test_split\n",
        "from sklearn.metrics import accuracy_score\n",
        "\n",
        "X_train, X_test, y_train, y_test = train_test_split(X_scaled, y, test_size=0.2, random_state=42)\n",
        "\n",
        "model_knn = KNeighborsClassifier(n_neighbors=5)\n",
        "model_knn.fit(X_train, y_train)\n",
        "y_pred_knn = model_knn.predict(X_test)\n",
        "\n",
        "accuracy_knn = accuracy_score(y_test, y_pred_knn)\n",
        "print(f'Akurasi model KNN: {accuracy_knn:.2f}')\n"
      ],
      "metadata": {
        "colab": {
          "base_uri": "https://localhost:8080/"
        },
        "id": "0Gk7tgmftcJH",
        "outputId": "2428180b-ed9a-419a-b045-07b092a8d3b2"
      },
      "execution_count": null,
      "outputs": [
        {
          "output_type": "stream",
          "name": "stdout",
          "text": [
            "Akurasi model KNN: 0.42\n"
          ]
        }
      ]
    },
    {
      "cell_type": "markdown",
      "source": [
        "---\n",
        "#Soal No 3 bagian B\n",
        "---"
      ],
      "metadata": {
        "id": "V8rYpWSA1eJq"
      }
    },
    {
      "cell_type": "code",
      "source": [
        "from sklearn.model_selection import train_test_split\n",
        "\n",
        "X_train, X_test, y_train, y_test = train_test_split(X_scaled, y, test_size=0.2, random_state=42)\n"
      ],
      "metadata": {
        "id": "57FP5CkR1k8z"
      },
      "execution_count": null,
      "outputs": []
    },
    {
      "cell_type": "markdown",
      "source": [
        "---\n",
        "#Soal No 3 Bagian C\n",
        "---"
      ],
      "metadata": {
        "id": "DliCBqqz2GBf"
      }
    },
    {
      "cell_type": "code",
      "source": [
        "import requests\n",
        "import pandas as pd\n",
        "from sklearn.model_selection import train_test_split\n",
        "from sklearn.metrics import accuracy_score, confusion_matrix\n",
        "from sklearn.impute import SimpleImputer\n",
        "from sklearn.preprocessing import MinMaxScaler\n",
        "from sklearn.neighbors import KNeighborsClassifier\n",
        "\n",
        "# Mengunduh dataset\n",
        "url = \"https://raw.githubusercontent.com/isnanmulia/lecture-datasets/main/mobileprice_modified.csv\"\n",
        "data = pd.read_csv(url)\n",
        "\n",
        "# Pisahkan atribut prediktor (X) dan atribut label (y)\n",
        "X = data.iloc[:, :-1]\n",
        "y = data['price_range']\n",
        "\n",
        "# Praproses data: Mengatasi missing values\n",
        "imputer = SimpleImputer(strategy='median')\n",
        "X_imputed = imputer.fit_transform(X)\n",
        "\n",
        "# Praproses data: Standarisasi nilai atribut prediktor\n",
        "scaler = MinMaxScaler()\n",
        "X_scaled = scaler.fit_transform(X_imputed)\n",
        "\n",
        "# Bagi dataset menjadi data pelatihan dan pengujian\n",
        "X_train, X_test, y_train, y_test = train_test_split(X_scaled, y, test_size=0.2, random_state=42)\n",
        "\n",
        "# Buat objek KNeighborsClassifier\n",
        "model = KNeighborsClassifier(n_neighbors=5)\n",
        "\n",
        "# Latih model dengan data pelatihan\n",
        "model.fit(X_train, y_train)\n",
        "\n",
        "# Lakukan prediksi dengan data pengujian\n",
        "y_pred = model.predict(X_test)\n",
        "\n",
        "# Hitung confusion matrix\n",
        "conf_matrix = confusion_matrix(y_test, y_pred)\n",
        "print(\"Confusion Matrix:\")\n",
        "print(conf_matrix)\n",
        "\n",
        "# Hitung akurasi\n",
        "accuracy = accuracy_score(y_test, y_pred)\n",
        "print(f\"Akurasi Model KNN: {accuracy:.2f}\")\n"
      ],
      "metadata": {
        "colab": {
          "base_uri": "https://localhost:8080/"
        },
        "id": "BBlx7aO12ImY",
        "outputId": "d4c6522d-adad-44e3-acff-37307dc572e7"
      },
      "execution_count": null,
      "outputs": [
        {
          "output_type": "stream",
          "name": "stdout",
          "text": [
            "Confusion Matrix:\n",
            "[[62 26 15  2]\n",
            " [30 33 22  6]\n",
            " [14 30 35 13]\n",
            " [ 5 20 48 39]]\n",
            "Akurasi Model KNN: 0.42\n"
          ]
        }
      ]
    },
    {
      "cell_type": "markdown",
      "source": [
        "---\n",
        "#Soal No 4 Bagian A\n",
        "---"
      ],
      "metadata": {
        "id": "akQR7ahQ4A2R"
      }
    },
    {
      "cell_type": "code",
      "source": [
        "import pandas as pd\n",
        "from sklearn.cluster import KMeans\n",
        "import matplotlib.pyplot as plt\n",
        "\n",
        "# Membaca dataset yang telah di-preprocessing (X_scaled)\n",
        "data = pd.DataFrame(X_scaled, columns=X.columns)  # Menggunakan data yang telah di-scaling sebelumnya\n",
        "\n",
        "# Menentukan jumlah cluster (k) yang diinginkan\n",
        "k = 5\n",
        "\n",
        "# Membangun model K-Means\n",
        "kmeans = KMeans(n_clusters=k, random_state=42)\n",
        "data['cluster'] = kmeans.fit_predict(data)\n",
        "\n",
        "# Menampilkan data dengan label cluster\n",
        "print(data)\n",
        "\n",
        "# Visualisasi hasil clustering\n",
        "plt.figure(figsize=(8, 6))\n",
        "plt.scatter(data.iloc[:, 0], data.iloc[:, 1], c=data['cluster'], cmap='viridis')\n",
        "plt.scatter(kmeans.cluster_centers_[:, 0], kmeans.cluster_centers_[:, 1], s=200, c='red', label='Centroids')\n",
        "plt.title(f'K-Means Clustering with {k} Clusters')\n",
        "plt.xlabel('Feature 1')\n",
        "plt.ylabel('Feature 2')\n",
        "plt.legend()\n",
        "plt.show()\n"
      ],
      "metadata": {
        "colab": {
          "base_uri": "https://localhost:8080/",
          "height": 1000
        },
        "id": "RY9yOAgC4BT8",
        "outputId": "c676cd80-9065-48c9-cb21-24eeca30bd38"
      },
      "execution_count": null,
      "outputs": [
        {
          "output_type": "stream",
          "name": "stderr",
          "text": [
            "/usr/local/lib/python3.10/dist-packages/sklearn/cluster/_kmeans.py:870: FutureWarning: The default value of `n_init` will change from 10 to 'auto' in 1.4. Set the value of `n_init` explicitly to suppress the warning\n",
            "  warnings.warn(\n"
          ]
        },
        {
          "output_type": "stream",
          "name": "stdout",
          "text": [
            "      battery_power  blue  clock_speed  dual_sim        fc  four_g  \\\n",
            "0          0.227789   0.0         0.68       0.0  0.052632     0.0   \n",
            "1          0.347361   1.0         0.00       1.0  0.000000     1.0   \n",
            "2          0.041416   1.0         0.00       1.0  0.105263     1.0   \n",
            "3          0.076152   1.0         0.80       0.0  0.000000     0.0   \n",
            "4          0.881764   1.0         0.28       0.0  0.684211     1.0   \n",
            "...             ...   ...          ...       ...       ...     ...   \n",
            "1995       0.195725   1.0         0.00       1.0  0.000000     1.0   \n",
            "1996       0.977956   1.0         0.84       1.0  0.000000     0.0   \n",
            "1997       0.941884   0.0         0.16       1.0  0.052632     1.0   \n",
            "1998       0.675351   0.0         0.16       0.0  0.210526     1.0   \n",
            "1999       0.006012   1.0         0.60       1.0  0.263158     1.0   \n",
            "\n",
            "      int_memory     m_dep  mobile_wt   n_cores  ...  px_height  px_width  \\\n",
            "0       0.080645  0.555556   0.900000  0.142857  ...   0.010204  0.170895   \n",
            "1       0.822581  0.666667   0.466667  0.285714  ...   0.461735  0.993324   \n",
            "2       0.629032  0.888889   0.541667  0.571429  ...   0.644388  0.811749   \n",
            "3       0.129032  0.777778   0.425000  0.714286  ...   0.620408  0.858478   \n",
            "4       0.677419  0.555556   0.508333  0.142857  ...   0.616327  0.475300   \n",
            "...          ...       ...        ...       ...  ...        ...       ...   \n",
            "1995    0.000000  0.777778   0.216667  0.714286  ...   0.623469  0.927904   \n",
            "1996    0.596774  0.111111   0.891667  0.428571  ...   0.466837  0.977971   \n",
            "1997    0.548387  0.666667   0.233333  1.000000  ...   0.442857  0.755674   \n",
            "1998    0.709677  0.000000   0.541667  0.571429  ...   0.171429  0.113485   \n",
            "1999    0.693548  0.888889   0.733333  0.714286  ...   0.246429  0.169559   \n",
            "\n",
            "           ram      sc_h      sc_w  talk_time  three_g  touch_screen  wifi  \\\n",
            "0     0.505211  0.285714  0.388889   0.944444      0.0           0.0   1.0   \n",
            "1     0.634687  0.857143  0.166667   0.277778      1.0           1.0   0.0   \n",
            "2     0.627205  0.428571  0.111111   0.388889      1.0           1.0   0.0   \n",
            "3     0.671566  0.785714  0.444444   0.500000      1.0           0.0   0.0   \n",
            "4     0.308658  0.214286  0.111111   0.722222      1.0           1.0   0.0   \n",
            "...        ...       ...       ...        ...      ...           ...   ...   \n",
            "1995  0.110102  0.571429  0.222222   0.944444      1.0           1.0   0.0   \n",
            "1996  0.474613  0.428571  0.555556   0.777778      1.0           1.0   1.0   \n",
            "1997  0.748530  0.285714  0.055556   0.166667      1.0           1.0   0.0   \n",
            "1998  0.163816  0.928571  0.555556   0.944444      1.0           1.0   1.0   \n",
            "1999  0.978888  1.000000  0.222222   0.000000      1.0           1.0   1.0   \n",
            "\n",
            "      cluster  \n",
            "0           4  \n",
            "1           3  \n",
            "2           3  \n",
            "3           4  \n",
            "4           2  \n",
            "...       ...  \n",
            "1995        3  \n",
            "1996        1  \n",
            "1997        2  \n",
            "1998        0  \n",
            "1999        3  \n",
            "\n",
            "[2000 rows x 21 columns]\n"
          ]
        },
        {
          "output_type": "display_data",
          "data": {
            "text/plain": [
              "<Figure size 800x600 with 1 Axes>"
            ],
            "image/png": "[encoded data removed]"
          },
          "metadata": {}
        }
      ]
    },
    {
      "cell_type": "markdown",
      "source": [
        "---\n",
        "#Soal No 4 Bagian B\n",
        "---"
      ],
      "metadata": {
        "id": "nBTW7Lst40Xp"
      }
    },
    {
      "cell_type": "code",
      "source": [
        "from sklearn.metrics import silhouette_score\n",
        "\n",
        "# Menghitung silhouette score\n",
        "silhouette_avg = silhouette_score(data, data['cluster'])\n",
        "\n",
        "# Menampilkan silhouette score\n",
        "print(f\"Silhouette Score: {silhouette_avg:.2f}\")\n"
      ],
      "metadata": {
        "colab": {
          "base_uri": "https://localhost:8080/"
        },
        "id": "Mc-ybbR543Q2",
        "outputId": "22726851-7944-45f7-affb-bb511566baec"
      },
      "execution_count": null,
      "outputs": [
        {
          "output_type": "stream",
          "name": "stdout",
          "text": [
            "Silhouette Score: 0.21\n"
          ]
        }
      ]
    }
  ]
}